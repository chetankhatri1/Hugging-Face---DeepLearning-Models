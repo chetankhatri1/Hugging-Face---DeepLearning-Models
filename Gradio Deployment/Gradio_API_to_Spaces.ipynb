{
 "cells": [
  {
   "cell_type": "code",
   "execution_count": 1,
   "metadata": {},
   "outputs": [
    {
     "name": "stdout",
     "output_type": "stream",
     "text": [
      "Requirement already satisfied: gradio_client in /Library/Frameworks/Python.framework/Versions/3.12/lib/python3.12/site-packages (1.3.0)\n",
      "Requirement already satisfied: fsspec in /Library/Frameworks/Python.framework/Versions/3.12/lib/python3.12/site-packages (from gradio_client) (2024.9.0)\n",
      "Requirement already satisfied: httpx>=0.24.1 in /Library/Frameworks/Python.framework/Versions/3.12/lib/python3.12/site-packages (from gradio_client) (0.27.2)\n",
      "Requirement already satisfied: huggingface-hub>=0.19.3 in /Library/Frameworks/Python.framework/Versions/3.12/lib/python3.12/site-packages (from gradio_client) (0.25.1)\n",
      "Requirement already satisfied: packaging in /Users/chetan/Library/Python/3.12/lib/python/site-packages (from gradio_client) (24.1)\n",
      "Requirement already satisfied: typing-extensions~=4.0 in /Library/Frameworks/Python.framework/Versions/3.12/lib/python3.12/site-packages (from gradio_client) (4.12.2)\n",
      "Requirement already satisfied: websockets<13.0,>=10.0 in /Library/Frameworks/Python.framework/Versions/3.12/lib/python3.12/site-packages (from gradio_client) (12.0)\n",
      "Requirement already satisfied: anyio in /Library/Frameworks/Python.framework/Versions/3.12/lib/python3.12/site-packages (from httpx>=0.24.1->gradio_client) (4.6.0)\n",
      "Requirement already satisfied: certifi in /Library/Frameworks/Python.framework/Versions/3.12/lib/python3.12/site-packages (from httpx>=0.24.1->gradio_client) (2024.8.30)\n",
      "Requirement already satisfied: httpcore==1.* in /Library/Frameworks/Python.framework/Versions/3.12/lib/python3.12/site-packages (from httpx>=0.24.1->gradio_client) (1.0.6)\n",
      "Requirement already satisfied: idna in /Library/Frameworks/Python.framework/Versions/3.12/lib/python3.12/site-packages (from httpx>=0.24.1->gradio_client) (3.10)\n",
      "Requirement already satisfied: sniffio in /Library/Frameworks/Python.framework/Versions/3.12/lib/python3.12/site-packages (from httpx>=0.24.1->gradio_client) (1.3.1)\n",
      "Requirement already satisfied: h11<0.15,>=0.13 in /Library/Frameworks/Python.framework/Versions/3.12/lib/python3.12/site-packages (from httpcore==1.*->httpx>=0.24.1->gradio_client) (0.14.0)\n",
      "Requirement already satisfied: filelock in /Library/Frameworks/Python.framework/Versions/3.12/lib/python3.12/site-packages (from huggingface-hub>=0.19.3->gradio_client) (3.16.1)\n",
      "Requirement already satisfied: pyyaml>=5.1 in /Library/Frameworks/Python.framework/Versions/3.12/lib/python3.12/site-packages (from huggingface-hub>=0.19.3->gradio_client) (6.0.2)\n",
      "Requirement already satisfied: requests in /Library/Frameworks/Python.framework/Versions/3.12/lib/python3.12/site-packages (from huggingface-hub>=0.19.3->gradio_client) (2.32.3)\n",
      "Requirement already satisfied: tqdm>=4.42.1 in /Library/Frameworks/Python.framework/Versions/3.12/lib/python3.12/site-packages (from huggingface-hub>=0.19.3->gradio_client) (4.66.5)\n",
      "Requirement already satisfied: charset-normalizer<4,>=2 in /Library/Frameworks/Python.framework/Versions/3.12/lib/python3.12/site-packages (from requests->huggingface-hub>=0.19.3->gradio_client) (3.3.2)\n",
      "Requirement already satisfied: urllib3<3,>=1.21.1 in /Library/Frameworks/Python.framework/Versions/3.12/lib/python3.12/site-packages (from requests->huggingface-hub>=0.19.3->gradio_client) (2.2.3)\n",
      "Note: you may need to restart the kernel to use updated packages.\n"
     ]
    }
   ],
   "source": [
    "pip install gradio_client"
   ]
  },
  {
   "cell_type": "code",
   "execution_count": 1,
   "metadata": {},
   "outputs": [
    {
     "name": "stdout",
     "output_type": "stream",
     "text": [
      "Loaded as API: https://chetankhatri1-blip-image-captioning-api.hf.space ✔\n",
      "a red bus with a blue stripe on the side\n"
     ]
    }
   ],
   "source": [
    "from gradio_client import Client, handle_file\n",
    "\n",
    "client = Client(\"Chetankhatri1/blip-image-captioning-api\")\n",
    "result = client.predict(\n",
    "\t\tinput=handle_file('https://raw.githubusercontent.com/gradio-app/gradio/main/test/test_files/bus.png'),\n",
    "\t\tapi_name=\"/predict\"\n",
    ")\n",
    "print(result)"
   ]
  },
  {
   "cell_type": "code",
   "execution_count": 2,
   "metadata": {},
   "outputs": [
    {
     "name": "stdout",
     "output_type": "stream",
     "text": [
      "Client.predict() Usage Info\n",
      "---------------------------\n",
      "Named API endpoints: 1\n",
      "\n",
      " - predict(input, api_name=\"/predict\") -> output\n",
      "    Parameters:\n",
      "     - [Image] input: filepath (required)  \n",
      "    Returns:\n",
      "     - [Textbox] output: str \n",
      "\n"
     ]
    }
   ],
   "source": [
    "client.view_api()"
   ]
  },
  {
   "cell_type": "code",
   "execution_count": null,
   "metadata": {},
   "outputs": [],
   "source": []
  }
 ],
 "metadata": {
  "kernelspec": {
   "display_name": "Python 3",
   "language": "python",
   "name": "python3"
  },
  "language_info": {
   "codemirror_mode": {
    "name": "ipython",
    "version": 3
   },
   "file_extension": ".py",
   "mimetype": "text/x-python",
   "name": "python",
   "nbconvert_exporter": "python",
   "pygments_lexer": "ipython3",
   "version": "3.12.5"
  }
 },
 "nbformat": 4,
 "nbformat_minor": 2
}
