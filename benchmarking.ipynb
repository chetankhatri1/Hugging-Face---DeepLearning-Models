{
 "cells": [
  {
   "cell_type": "code",
   "execution_count": 1,
   "metadata": {},
   "outputs": [
    {
     "name": "stderr",
     "output_type": "stream",
     "text": [
      "/Users/chetan/Library/Python/3.9/lib/python/site-packages/urllib3/__init__.py:35: NotOpenSSLWarning: urllib3 v2 only supports OpenSSL 1.1.1+, currently the 'ssl' module is compiled with 'LibreSSL 2.8.3'. See: https://github.com/urllib3/urllib3/issues/3020\n",
      "  warnings.warn(\n",
      "/Users/chetan/Library/Python/3.9/lib/python/site-packages/tqdm/auto.py:21: TqdmWarning: IProgress not found. Please update jupyter and ipywidgets. See https://ipywidgets.readthedocs.io/en/stable/user_install.html\n",
      "  from .autonotebook import tqdm as notebook_tqdm\n"
     ]
    },
    {
     "name": "stdout",
     "output_type": "stream",
     "text": [
      "Loading model...\n"
     ]
    },
    {
     "name": "stderr",
     "output_type": "stream",
     "text": [
      "/Users/chetan/Library/Python/3.9/lib/python/site-packages/transformers/tokenization_utils_base.py:1617: FutureWarning: `clean_up_tokenization_spaces` was not set. It will be set to `True` by default. This behavior will be deprecated in transformers v4.45, and will be then set to `False` by default. For more details check this issue: https://github.com/huggingface/transformers/issues/31884\n",
      "  warnings.warn(\n",
      "Hardware accelerator e.g. GPU is available in the environment, but no `device` argument is passed to the `Pipeline` object. Model will be on CPU.\n"
     ]
    },
    {
     "name": "stdout",
     "output_type": "stream",
     "text": [
      "Running benchmark for 10 iterations...\n",
      "Average inference time: 3.52 seconds\n"
     ]
    }
   ],
   "source": [
    "import time\n",
    "from transformers import pipeline\n",
    "\n",
    "def run_benchmark(num_iterations=10):\n",
    "    # Load the model\n",
    "    print(\"Loading model...\")\n",
    "    chatbot = pipeline(\"text2text-generation\", model=\"facebook/blenderbot-400M-distill\")\n",
    "    \n",
    "    # Warm-up run\n",
    "    _ = chatbot(\"Hello, how are you?\")\n",
    "    \n",
    "    # Benchmark\n",
    "    print(f\"Running benchmark for {num_iterations} iterations...\")\n",
    "    start_time = time.time()\n",
    "    for _ in range(num_iterations):\n",
    "        response = chatbot(\"Hello, how are you?\")\n",
    "    end_time = time.time()\n",
    "    \n",
    "    avg_time = (end_time - start_time) / num_iterations\n",
    "    print(f\"Average inference time: {avg_time:.2f} seconds\")\n",
    "\n",
    "if __name__ == \"__main__\":\n",
    "    run_benchmark()"
   ]
  },
  {
   "cell_type": "code",
   "execution_count": 2,
   "metadata": {},
   "outputs": [
    {
     "name": "stdout",
     "output_type": "stream",
     "text": [
      "Starting simple test...\n",
      "Loading tokenizer...\n",
      "Loading model...\n",
      "Preparing input...\n",
      "Generating response...\n",
      "Decoding response...\n",
      "Response:  I'm doing well, thank you. How are you this fine evening? Do you have any plans?\n",
      "Test completed successfully.\n"
     ]
    }
   ],
   "source": [
    "from transformers import AutoTokenizer, AutoModelForSeq2SeqLM\n",
    "\n",
    "def simple_test():\n",
    "    print(\"Starting simple test...\")\n",
    "    \n",
    "    print(\"Loading tokenizer...\")\n",
    "    tokenizer = AutoTokenizer.from_pretrained(\"facebook/blenderbot-400M-distill\")\n",
    "    \n",
    "    print(\"Loading model...\")\n",
    "    model = AutoModelForSeq2SeqLM.from_pretrained(\"facebook/blenderbot-400M-distill\")\n",
    "    \n",
    "    print(\"Preparing input...\")\n",
    "    inputs = tokenizer(\"Hello, how are you?\", return_tensors=\"pt\")\n",
    "    \n",
    "    print(\"Generating response...\")\n",
    "    outputs = model.generate(**inputs)\n",
    "    \n",
    "    print(\"Decoding response...\")\n",
    "    response = tokenizer.decode(outputs[0], skip_special_tokens=True)\n",
    "    \n",
    "    print(f\"Response: {response}\")\n",
    "    print(\"Test completed successfully.\")\n",
    "\n",
    "if __name__ == \"__main__\":\n",
    "    simple_test()"
   ]
  },
  {
   "cell_type": "code",
   "execution_count": null,
   "metadata": {},
   "outputs": [],
   "source": []
  }
 ],
 "metadata": {
  "kernelspec": {
   "display_name": "Python 3",
   "language": "python",
   "name": "python3"
  },
  "language_info": {
   "codemirror_mode": {
    "name": "ipython",
    "version": 3
   },
   "file_extension": ".py",
   "mimetype": "text/x-python",
   "name": "python",
   "nbconvert_exporter": "python",
   "pygments_lexer": "ipython3",
   "version": "3.9.6"
  }
 },
 "nbformat": 4,
 "nbformat_minor": 2
}
